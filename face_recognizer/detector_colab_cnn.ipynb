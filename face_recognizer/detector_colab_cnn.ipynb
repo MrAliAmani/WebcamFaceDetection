{
  "cells": [
    {
      "cell_type": "markdown",
      "metadata": {
        "id": "eJyL5h6eFjpH"
      },
      "source": [
        "# Face_Detection using [https://realpython.com/face-recognition-with-python/]"
      ]
    },
    {
      "cell_type": "code",
      "source": [
        "!pip install face_recognition"
      ],
      "metadata": {
        "colab": {
          "base_uri": "https://localhost:8080/"
        },
        "id": "K13riWkvFryX",
        "outputId": "bcd9be46-7144-47d8-d6cd-f7f19fd91060"
      },
      "execution_count": 1,
      "outputs": [
        {
          "output_type": "stream",
          "name": "stdout",
          "text": [
            "Collecting face_recognition\n",
            "  Downloading face_recognition-1.3.0-py2.py3-none-any.whl (15 kB)\n",
            "Collecting face-recognition-models>=0.3.0 (from face_recognition)\n",
            "  Downloading face_recognition_models-0.3.0.tar.gz (100.1 MB)\n",
            "\u001b[2K     \u001b[90m━━━━━━━━━━━━━━━━━━━━━━━━━━━━━━━━━━━━━━━━\u001b[0m \u001b[32m100.1/100.1 MB\u001b[0m \u001b[31m8.0 MB/s\u001b[0m eta \u001b[36m0:00:00\u001b[0m\n",
            "\u001b[?25h  Preparing metadata (setup.py) ... \u001b[?25l\u001b[?25hdone\n",
            "Requirement already satisfied: Click>=6.0 in /usr/local/lib/python3.10/dist-packages (from face_recognition) (8.1.7)\n",
            "Requirement already satisfied: dlib>=19.7 in /usr/local/lib/python3.10/dist-packages (from face_recognition) (19.24.2)\n",
            "Requirement already satisfied: numpy in /usr/local/lib/python3.10/dist-packages (from face_recognition) (1.23.5)\n",
            "Requirement already satisfied: Pillow in /usr/local/lib/python3.10/dist-packages (from face_recognition) (9.4.0)\n",
            "Building wheels for collected packages: face-recognition-models\n",
            "  Building wheel for face-recognition-models (setup.py) ... \u001b[?25l\u001b[?25hdone\n",
            "  Created wheel for face-recognition-models: filename=face_recognition_models-0.3.0-py2.py3-none-any.whl size=100566170 sha256=43dbe215c48af7211f921dd64ff1fba563efcb9cdb3fcd51c752dd42af7d2272\n",
            "  Stored in directory: /root/.cache/pip/wheels/7a/eb/cf/e9eced74122b679557f597bb7c8e4c739cfcac526db1fd523d\n",
            "Successfully built face-recognition-models\n",
            "Installing collected packages: face-recognition-models, face_recognition\n",
            "Successfully installed face-recognition-models-0.3.0 face_recognition-1.3.0\n"
          ]
        }
      ]
    },
    {
      "cell_type": "code",
      "execution_count": 2,
      "metadata": {
        "id": "ItaAU2NzFjpK"
      },
      "outputs": [],
      "source": [
        "import cv2\n",
        "\n",
        "# for running on colab\n",
        "# from google.colab.patches import cv2_imshow\n",
        "\n",
        "from matplotlib import pyplot as plt\n",
        "from PIL import Image, ImageDraw\n",
        "\n",
        "import time\n",
        "\n",
        "from collections import Counter\n",
        "\n",
        "import pickle\n",
        "\n",
        "import argparse\n",
        "\n",
        "from pathlib import Path\n",
        "import shutil\n",
        "import os\n",
        "\n",
        "import face_recognition\n",
        "\n",
        "import json"
      ]
    },
    {
      "cell_type": "markdown",
      "metadata": {
        "id": "1n-4mfplFjpL"
      },
      "source": [
        "## Step 1: Prepare Your Environment and Data"
      ]
    },
    {
      "cell_type": "code",
      "execution_count": 3,
      "metadata": {
        "id": "ybga87tAFjpM"
      },
      "outputs": [],
      "source": [
        "# mkdir face_recognizer"
      ]
    },
    {
      "cell_type": "code",
      "execution_count": 4,
      "metadata": {
        "id": "I8I59xnnFjpM"
      },
      "outputs": [],
      "source": [
        "# cd face_recognizer"
      ]
    },
    {
      "cell_type": "code",
      "execution_count": 5,
      "metadata": {
        "id": "22rih4duFjpM"
      },
      "outputs": [],
      "source": [
        "# mkdir output"
      ]
    },
    {
      "cell_type": "code",
      "execution_count": 6,
      "metadata": {
        "id": "xQTsCKb6FjpN"
      },
      "outputs": [],
      "source": [
        "# mkdir training"
      ]
    },
    {
      "cell_type": "code",
      "execution_count": 7,
      "metadata": {
        "id": "AnmfKZ7sFjpN"
      },
      "outputs": [],
      "source": [
        "# mkdir validation"
      ]
    },
    {
      "cell_type": "code",
      "source": [
        "#@title Kaggle Credential { display-mode: \"form\" }\n",
        "\n",
        "username = 'mraliamani' #@param {type: \"string\"}\n",
        "api_key = '3d96c5a449b86f3bb0eae62a2832df3a' #@param {type: \"string\"}\n",
        "\n",
        "\n",
        "if username and api_key:\n",
        "    token = {\"username\": username, \"key\": api_key}\n",
        "\n",
        "    !mkdir ~/.kaggle\n",
        "    !mkdir /content/.kaggle\n",
        "    with open('/content/.kaggle/kaggle.json', 'w') as f:\n",
        "        json.dump(token, f)\n",
        "\n",
        "    !cp /content/.kaggle/kaggle.json ~/.kaggle/kaggle.json\n",
        "    !chmod 600 /root/.kaggle/kaggle.json\n",
        "\n",
        "    print('Your are ready to use kaggle API!')"
      ],
      "metadata": {
        "colab": {
          "base_uri": "https://localhost:8080/"
        },
        "id": "-jvWz75DGeHD",
        "outputId": "88c813b5-fd8b-4a69-bfb6-deb5027c2f36"
      },
      "execution_count": 8,
      "outputs": [
        {
          "output_type": "stream",
          "name": "stdout",
          "text": [
            "Your are ready to use kaggle API!\n"
          ]
        }
      ]
    },
    {
      "cell_type": "code",
      "source": [
        "!kaggle datasets download -d adg1822/7-celebrity-images"
      ],
      "metadata": {
        "colab": {
          "base_uri": "https://localhost:8080/"
        },
        "id": "vKzeABb5GGjj",
        "outputId": "ea70a016-a530-4170-ab3d-c4f041e58b75"
      },
      "execution_count": 9,
      "outputs": [
        {
          "output_type": "stream",
          "name": "stdout",
          "text": [
            "Downloading 7-celebrity-images.zip to /content\n",
            "\r  0% 0.00/22.3M [00:00<?, ?B/s]\r 54% 12.0M/22.3M [00:00<00:00, 120MB/s]\n",
            "\r100% 22.3M/22.3M [00:00<00:00, 162MB/s]\n"
          ]
        }
      ]
    },
    {
      "cell_type": "code",
      "source": [
        "!unzip /content/7-celebrity-images.zip"
      ],
      "metadata": {
        "colab": {
          "base_uri": "https://localhost:8080/"
        },
        "id": "hTNey4dOGoBY",
        "outputId": "120f084b-97ae-4a46-f5d1-be72838bb925"
      },
      "execution_count": 10,
      "outputs": [
        {
          "output_type": "stream",
          "name": "stdout",
          "text": [
            "Archive:  /content/7-celebrity-images.zip\n",
            "  inflating: Newdata/train/ben_afflek/httpcsvkmeuaeccjpg.jpg  \n",
            "  inflating: Newdata/train/ben_afflek/httpimagesfandangocomrImageRendererredesignstaticimgnoxportraitjpgpcpcpcimagesmasterrepositoryperformerimagespjpg.jpg  \n",
            "  inflating: Newdata/train/ben_afflek/httpssmediacacheakpinimgcomxdbbdbbbececacdecdcdfjpg.jpg  \n",
            "  inflating: Newdata/train/ben_afflek/httpssmediacacheakpinimgcomxdfdfadcfeabjpg.jpg  \n",
            "  inflating: Newdata/train/ben_afflek/httpssmediacacheakpinimgcomxedaedabcbefbcbabbjpg.jpg  \n",
            "  inflating: Newdata/train/ben_afflek/httpssmediacacheakpinimgcomxeebdfdbaaajpg.jpg  \n",
            "  inflating: Newdata/train/ben_afflek/httpssmediacacheakpinimgcomxeeedcacddeccccacfjpg.jpg  \n",
            "  inflating: Newdata/train/ben_afflek/httpsuploadwikimediaorgwikipediacommonsthumbddBenAffleckbyGageSkidmorejpgpxBenAffleckbyGageSkidmorejpg.jpg  \n",
            "  inflating: Newdata/train/ben_afflek/httptrwebimgacstanetcxbdddmediasnmediajpg.jpg  \n",
            "  inflating: Newdata/train/ben_afflek/httpwwwaceshowbizcomimagesphotobenaffleckjpg.jpg  \n",
            "  inflating: Newdata/train/ben_afflek/httpwwwallposterscomimagesPostersPFjpg.jpg  \n",
            "  inflating: Newdata/train/ben_afflek/httpwwwfilmscoopitcgibinattoriBENAFFLECKBENAFFLECKjpg.jpg  \n",
            "  inflating: Newdata/train/ben_afflek/httpwwwhillsindcomstorebenjpg.jpg  \n",
            "  inflating: Newdata/train/ben_afflek/httpwwwrumenewscomwpcontentuploadsbenafflekxpng.jpg  \n",
            "  inflating: Newdata/train/elon_musk/161854.jpg  \n",
            "  inflating: Newdata/train/elon_musk/161860.jpg  \n",
            "  inflating: Newdata/train/elon_musk/161869.jpg  \n",
            "  inflating: Newdata/train/elon_musk/161871.jpg  \n",
            "  inflating: Newdata/train/elon_musk/161877.jpg  \n",
            "  inflating: Newdata/train/elon_musk/161879.jpg  \n",
            "  inflating: Newdata/train/elon_musk/161881.jpg  \n",
            "  inflating: Newdata/train/elon_musk/161888.jpg  \n",
            "  inflating: Newdata/train/elon_musk/161889.jpg  \n",
            "  inflating: Newdata/train/elon_musk/images (1).jpeg  \n",
            "  inflating: Newdata/train/elon_musk/images (2).jpeg  \n",
            "  inflating: Newdata/train/elon_musk/images (3).jpeg  \n",
            "  inflating: Newdata/train/elon_musk/images (4).jpeg  \n",
            "  inflating: Newdata/train/elon_musk/images (5).jpeg  \n",
            "  inflating: Newdata/train/elon_musk/images (6).jpeg  \n",
            "  inflating: Newdata/train/elon_musk/images.jpeg  \n",
            "  inflating: Newdata/train/elton_john/httpftqncomymusicLxZeltonjohnjpg.jpg  \n",
            "  inflating: Newdata/train/elton_john/httpiamediaimdbcomimagesMMVBMTAxNDUMzUwOTdeQTJeQWpwZBbWUMDUOTAyNTIVUXCRALjpg.jpg  \n",
            "  inflating: Newdata/train/elton_john/httpimagesmtvcomurimgidfiledocrootvhcomsitewideflipbooksimgdailyjpgenlargefalsemattetruematteColorblackquality.jpg  \n",
            "  inflating: Newdata/train/elton_john/httpimggalpmdstaticnetfithttpAFFwwwEgalaEfrFvarFgalFstorageFimagesFmediaFmultiuploaddufevrierFeltonjohnFfreFRFeltonjohnEjpgxqualityeltonjohnjpg.jpg  \n",
            "  inflating: Newdata/train/elton_john/httpmediacacheecpinimgcomxffeffbcefjpg.jpg  \n",
            "  inflating: Newdata/train/elton_john/httpmediapopsugarassetscomfilescbffewltonjpg.jpg  \n",
            "  inflating: Newdata/train/elton_john/httpsdfrpwlycscloudfrontnetdeltonjohnjpg.jpg  \n",
            "  inflating: Newdata/train/elton_john/httpspmctvlinefileswordpresscomeltonjohnjpg.jpg  \n",
            "  inflating: Newdata/train/elton_john/httpssmediacacheakpinimgcomxfcfcbaeaeddabbjpg.jpg  \n",
            "  inflating: Newdata/train/elton_john/httpssmediacacheakpinimgcomxfecfecaefaadfebejpg.jpg  \n",
            "  inflating: Newdata/train/elton_john/httpssmediacacheakpinimgcomxfefdacfbfdeadajpg.jpg  \n",
            "  inflating: Newdata/train/elton_john/httpsticketmnettmenusdamabbacdaebeafdbbCUSTOMjpg.jpg  \n",
            "  inflating: Newdata/train/elton_john/httpsuploadwikimediaorgwikipediacommonsthumbEltonJohninsjpgpxEltonJohninsjpg.jpg  \n",
            "  inflating: Newdata/train/elton_john/httpwwwdeadlinecomvimgnetwpcontentuploadseltonjpg.jpg  \n",
            "  inflating: Newdata/train/elton_john/httpwwweonlinecomresizewwweonlinecomeolimagesEntireSitersxEltonJohnJRjpg.jpg  \n",
            "  inflating: Newdata/train/jerry_seinfeld/httpgraphicsnytimescomimagessectionmoviesfilmographyWireImagejpg.jpg  \n",
            "  inflating: Newdata/train/jerry_seinfeld/httpikinjaimgcomgawkermediaimageuploadsWmIuhdsrcedidjpgjpg.jpg  \n",
            "  inflating: Newdata/train/jerry_seinfeld/httpimagescontactmusiccomnewsimagesjerryseinfeldjpg.jpg  \n",
            "  inflating: Newdata/train/jerry_seinfeld/httpimagesrottentomatoescomimagesspotlightsnewsjerryseinfeldjpg.jpg  \n",
            "  inflating: Newdata/train/jerry_seinfeld/httpimgthedrumcomsfspublicnewstmpjerryseinfeldjpg.jpg  \n",
            "  inflating: Newdata/train/jerry_seinfeld/httpimgtimeincnetpeopleinewsjerryseinfeldjpg.jpg  \n",
            "  inflating: Newdata/train/jerry_seinfeld/httpmediapopsugarassetscomfilesusersxlargejpg.jpg  \n",
            "  inflating: Newdata/train/jerry_seinfeld/httppfodcompchannelslegacyprofilejerryseinfeldpodcastjpg.jpg  \n",
            "  inflating: Newdata/train/jerry_seinfeld/httpsmedialivenationcomartiststapjpg.jpg  \n",
            "  inflating: Newdata/train/jerry_seinfeld/httpsrobertaccetturacomwpcontentuploadsjerryseinfeldheadshotjpg.jpg  \n",
            "  inflating: Newdata/train/jerry_seinfeld/httpstatictherichestimagescomcdncwpcontentuploadsJerrySeinfeldjpg.jpg  \n",
            "  inflating: Newdata/train/jerry_seinfeld/httpsticketmnettmenusdbimagesajpg.jpg  \n",
            "  inflating: Newdata/train/jerry_seinfeld/httpsuploadwikimediaorgwikipediacommonsthumbbJerrySeinfeldjpgpxJerrySeinfeldjpg.jpg  \n",
            "  inflating: Newdata/train/jerry_seinfeld/httpsuswestamazonawscomblogsprodmediausuploadsJerrySeinfeldkidsxjpg.jpg  \n",
            "  inflating: Newdata/train/jerry_seinfeld/httpswwwticketscomuploadsartistsjerryseinfeldbilletsjpg.jpg  \n",
            "  inflating: Newdata/train/jobiden/IgTDHM.jpg  \n",
            "  inflating: Newdata/train/jobiden/Joe-Biden-Chicago-ap-img.webp  \n",
            "  inflating: Newdata/train/jobiden/MW-HD735_biden_20190211135403_ZQ.jpg  \n",
            "  inflating: Newdata/train/jobiden/PpL9o6.jpg  \n",
            "  inflating: Newdata/train/jobiden/RTS2M37E_1.jpg  \n",
            "  inflating: Newdata/train/jobiden/ThKD5P.jpg  \n",
            "  inflating: Newdata/train/jobiden/X0IzWg.jpg  \n",
            "  inflating: Newdata/train/jobiden/download (1).jpeg  \n",
            "  inflating: Newdata/train/jobiden/download (2).jpeg  \n",
            "  inflating: Newdata/train/jobiden/download (3).jpeg  \n",
            "  inflating: Newdata/train/jobiden/download (4).jpeg  \n",
            "  inflating: Newdata/train/jobiden/download (5).jpeg  \n",
            "  inflating: Newdata/train/jobiden/images (9).jpeg  \n",
            "  inflating: Newdata/train/jobiden/kYq2BJ.jpg  \n",
            "  inflating: Newdata/train/jobiden/zrAovB.jpg  \n",
            "  inflating: Newdata/train/madonna/httpiamediaimdbcomimagesMMVBMTANDQNTAxNDVeQTJeQWpwZBbWUMDIMjQOTYVUXCRALjpg.jpg  \n",
            "  inflating: Newdata/train/madonna/httpimagegaladevcmseamadonnaprivatdetektivsquaretopsquarejpgv.jpg  \n",
            "  inflating: Newdata/train/madonna/httpimgclosermagfrvarclosermagstorageimagesactupeoplebiodestarsmadonnamadonnafreFRmadonnaexactxljpg.jpg  \n",
            "  inflating: Newdata/train/madonna/httpmediavoguecomrwblondesdarkbrowsmadonnajpg.jpg  \n",
            "  inflating: Newdata/train/madonna/httpresizeparismatchladmediafrrffffffcentermiddleimgvarnewsstorageimagesparismatchpeopleazmadonnafreFRMadonnajpg.jpg  \n",
            "  inflating: Newdata/train/madonna/httpssmediacacheakpinimgcomxaaeaaeecccaedfebdbjpg.jpg  \n",
            "  inflating: Newdata/train/madonna/httpssmediacacheakpinimgcomxafafedebcbjpg.jpg  \n",
            "  inflating: Newdata/train/madonna/httpssmediacacheakpinimgcomxdcfdcfedfaedadjpg.jpg  \n",
            "  inflating: Newdata/train/madonna/httpssmediacacheakpinimgcomxfeebfdccajpg.jpg  \n",
            "  inflating: Newdata/train/madonna/httpssmediacacheakpinimgcomxffabffabbbcfbceaedjpg.jpg  \n",
            "  inflating: Newdata/train/madonna/httpssmediacacheakpinimgcomxffeabacaaejpg.jpg  \n",
            "  inflating: Newdata/train/madonna/httpssmediacacheakpinimgcomxffecfafddjpg.jpg  \n",
            "  inflating: Newdata/train/madonna/httpssvagalumecommadonnaimagesmadonnajpg.jpg  \n",
            "  inflating: Newdata/train/madonna/httpsuploadwikimediaorgwikipediacommonsMadonnathAnnualGoldenGlobesAwardscroppedjpg.jpg  \n",
            "  inflating: Newdata/train/madonna/httpsuploadwikimediaorgwikipediacommonsthumbaaMadonnaatthepremiereofIAmBecauseWeArejpgpxMadonnaatthepremiereofIAmBecauseWeArejpg.jpg  \n",
            "  inflating: Newdata/train/mindy_kaling/httpgonetworthcomwpcontentuploadsthumbsjpg.jpg  \n",
            "  inflating: Newdata/train/mindy_kaling/httpgraphicsnytimescomimagesmagazinekalingkalingarticleInlinejpg.jpg  \n",
            "  inflating: Newdata/train/mindy_kaling/httpimagesnymagcomimagesdailymindykalingxjpg.jpg  \n",
            "  inflating: Newdata/train/mindy_kaling/httpmediaonsugarcomfilesbabaaaaaMindyInterviewxxxlargejpg.jpg  \n",
            "  inflating: Newdata/train/mindy_kaling/httppixelnymagcomimgsfashiondailymindykalingwhjpg.jpg  \n",
            "  inflating: Newdata/train/mindy_kaling/httpsamazonawscomkidzworldphotoimagesbccdddaaadgallerymindykalinggalleryjpg.jpg  \n",
            "  inflating: Newdata/train/mindy_kaling/httpsimagesnasslimagesamazoncomimagesIAQdwKvFILUXjpg.jpg  \n",
            "  inflating: Newdata/train/mindy_kaling/httpsimgbuzzfeedcombuzzfeedstaticstaticcampaignimageswebdradorableetsyitemsallmindykalingfansneedbigjpg.jpg  \n",
            "  inflating: Newdata/train/mindy_kaling/httpssmediacacheakpinimgcomxafaffbbbbdbcbdddjpg.jpg  \n",
            "  inflating: Newdata/train/mindy_kaling/httpssmediacacheakpinimgcomxbabafeacbaaacabffjpg.jpg  \n",
            "  inflating: Newdata/train/mindy_kaling/httpssmediacacheakpinimgcomxbbfcbdedfbfdbjpg.jpg  \n",
            "  inflating: Newdata/train/mindy_kaling/httpssmediacacheakpinimgcomxcccccddbbfedabjpg.jpg  \n",
            "  inflating: Newdata/train/mindy_kaling/httpssmediacacheakpinimgcomxccccdabeaadjpg.jpg  \n",
            "  inflating: Newdata/train/mindy_kaling/httpssmediacacheakpinimgcomxededbebccdajpg.jpg  \n",
            "  inflating: Newdata/train/mindy_kaling/httpssmediacacheakpinimgcomxeedccadejpg.jpg  \n",
            "  inflating: Newdata/train/mindy_kaling/httpwwwpictureszimbiocomfpMindyKalingfBgaONVFDFmjpg.jpg  \n",
            "  inflating: Newdata/unknown/BB111NCG.jpeg  \n",
            "  inflating: Newdata/unknown/BB1125a3.jpeg  \n",
            "  inflating: Newdata/unknown/BB12XCJF.jpeg  \n",
            "  inflating: Newdata/unknown/amandeep.jpg  \n",
            "  inflating: Newdata/unknown/anand.jpg  \n",
            "  inflating: Newdata/unknown/anup.jpg  \n",
            "  inflating: Newdata/unknown/download (7).jpeg  \n",
            "  inflating: Newdata/unknown/hillary-clinton-9251306-2-402.jpg  \n",
            "  inflating: Newdata/val/ben_afflek/httpabsolumentgratuitfreefrimagesbenaffleckjpg.jpg  \n",
            "  inflating: Newdata/val/ben_afflek/httpafilesbiographycomimageuploadcfillcssrgbdprgfacehqwMTENDgMDUODczNDcNTcjpg.jpg  \n",
            "  inflating: Newdata/val/ben_afflek/httpbpblogspotcomedLMjVpRGkSWexgsXjkNIAAAAAAAADWgFFtAUqBlhAsjpg.jpg  \n",
            "  inflating: Newdata/val/ben_afflek/httpcsvkmeuaafdfjpg.jpg  \n",
            "  inflating: Newdata/val/ben_afflek/httpcsvkmeuadecafjpg.jpg  \n",
            "  inflating: Newdata/val/elon_musk/161856.jpg  \n",
            "  inflating: Newdata/val/elon_musk/161859.jpg  \n",
            "  inflating: Newdata/val/elon_musk/161862.jpg  \n",
            "  inflating: Newdata/val/elon_musk/161867.jpg  \n",
            "  inflating: Newdata/val/elon_musk/download (6).jpeg  \n",
            "  inflating: Newdata/val/elton_john/httpafilesbiographycomimageuploadcfillcssrgbdprgfacehqwMTEODAOTcxNjcMjczMjkzjpg.jpg  \n",
            "  inflating: Newdata/val/elton_john/httpcdncdnjustjaredcomwpcontentuploadsheadlineseltonjohnemmysperformancewatchnowjpg.jpg  \n",
            "  inflating: Newdata/val/elton_john/httpcdncdnjustjaredcomwpcontentuploadsheadlineseltonjohnstillstandingbrooklynnewyearsjpg.jpg  \n",
            "  inflating: Newdata/val/elton_john/httpcdncdnjustjaredcomwpcontentuploadsheadlineseltonjohnsupportsbrucejennerstransitiontowomanjpg.jpg  \n",
            "  inflating: Newdata/val/elton_john/httpcdnlyricssongonlyricsnetwpcontentuploadsEltonJohnDiscographyCDreleasesjpg.jpg  \n",
            "  inflating: Newdata/val/jerry_seinfeld/httpafilesbiographycomimageuploadcfillcssrgbdprgfacehqwMTIwNjANjMMDINzIxNjcjpg.jpg  \n",
            "  inflating: Newdata/val/jerry_seinfeld/httpaurorasblogcomwpcontentuploadsjerryseinfeldpublicityshotjpg.jpg  \n",
            "  inflating: Newdata/val/jerry_seinfeld/httpblognjcomentertainmentimpactcelebritiesmediumjerrybjpg.jpg  \n",
            "  inflating: Newdata/val/jerry_seinfeld/httpcdncdnjustjaredcomwpcontentuploadsheadlinesjerryseinfeldmakesbrianwilliamsjokejpg.jpg  \n",
            "  inflating: Newdata/val/jerry_seinfeld/httpcdnssninsidercomwpcontentuploadsjerryseinfeldxjpg.jpg  \n",
            "  inflating: Newdata/val/jobiden/1zboZX.jpg  \n",
            "  inflating: Newdata/val/jobiden/4Y4R25CNWVHNJAQWXGKB4IAWHY.jpg  \n",
            "  inflating: Newdata/val/jobiden/a64x7g (1).jpg  \n",
            "  inflating: Newdata/val/jobiden/images (8).jpeg  \n",
            "  inflating: Newdata/val/jobiden/lJZ8sN.jpg  \n",
            "  inflating: Newdata/val/madonna/httpassetsrollingstonecomassetsarticlemadonnadavidbowiechangedthecourseofmylifeforeversmallsquarexmadonnabowiejpg.jpg  \n",
            "  inflating: Newdata/val/madonna/httpassetsrollingstonecomassetsimagesalbumreviewaffaceabdcccaeedjpg.jpg  \n",
            "  inflating: Newdata/val/madonna/httpcdncdnjustjaredcomwpcontentuploadsheadlinesmadonnatalksparisattackstearsjpg.jpg  \n",
            "  inflating: Newdata/val/madonna/httpcdnfuncheapcomwpcontentuploadsVOGUEjpg.jpg  \n",
            "  inflating: Newdata/val/madonna/httpecximagesamazoncomimagesIfmaBKWLACULSRjpg.jpg  \n",
            "  inflating: Newdata/val/mindy_kaling/httpafilesbiographycomimageuploadcfillcssrgbdprgfacehqwMTIOTcwODQNTUzNjQMzcjpg.jpg  \n",
            "  inflating: Newdata/val/mindy_kaling/httpcdncdnjustjaredcomwpcontentuploadsheadlinesmindykalingcomedypilotjpg.jpg  \n",
            "  inflating: Newdata/val/mindy_kaling/httpcdnpastemagazinecomwwwarticlesmindykalingndbookjpg.jpg  \n",
            "  inflating: Newdata/val/mindy_kaling/httpcdnpastemagazinecomwwwarticlesmindyprojectjpg.jpg  \n",
            "  inflating: Newdata/val/mindy_kaling/httpdbrbzkkbdsdcloudfrontnetwpcontentuploadsMindyKalingjpg.jpg  \n"
          ]
        }
      ]
    },
    {
      "cell_type": "code",
      "source": [
        "def move_contents(source_folder, destination_folder):\n",
        "  for filename in os.listdir(source_folder):\n",
        "      src_file = os.path.join(source_folder, filename)\n",
        "      dst_file = os.path.join(destination_folder, filename)\n",
        "\n",
        "      shutil.move(src_file, dst_file)"
      ],
      "metadata": {
        "id": "EOjPZrnbG0aL"
      },
      "execution_count": 11,
      "outputs": []
    },
    {
      "cell_type": "code",
      "source": [
        "move_contents(\"/content/Newdata/train\", \"/content/training\")"
      ],
      "metadata": {
        "id": "uP0tw4vwHGLh"
      },
      "execution_count": 12,
      "outputs": []
    },
    {
      "cell_type": "code",
      "source": [
        "move_contents(\"/content/Newdata/val\", \"/content/validation\")"
      ],
      "metadata": {
        "id": "eklW68tcH9lc"
      },
      "execution_count": 13,
      "outputs": []
    },
    {
      "cell_type": "code",
      "source": [
        "!mv /content/Newdata/unknown /content"
      ],
      "metadata": {
        "id": "YD8RmfVDIFdL"
      },
      "execution_count": 14,
      "outputs": []
    },
    {
      "cell_type": "code",
      "source": [
        "!rm -rf /content/7-celebrity-images.zip"
      ],
      "metadata": {
        "id": "G7EeMmSFISkC"
      },
      "execution_count": 15,
      "outputs": []
    },
    {
      "cell_type": "code",
      "source": [
        "!rm -rf /content/Newdata"
      ],
      "metadata": {
        "id": "16x87dyfIVTM"
      },
      "execution_count": 16,
      "outputs": []
    },
    {
      "cell_type": "markdown",
      "metadata": {
        "id": "c9bMLnLCFjpN"
      },
      "source": [
        "## Step 2: Load Training Data and Train Your Model"
      ]
    },
    {
      "cell_type": "markdown",
      "metadata": {
        "id": "0ILJh3GtFjpN"
      },
      "source": [
        "HOG (histogram of oriented gradients) is a common technique for object detection. For this tutorial, you only need to remember that it works best with a CPU.\n",
        "CNN (convolutional neural network) is another technique for object detection. In contrast to a HOG, a CNN works better on a GPU, otherwise known as a video card."
      ]
    },
    {
      "cell_type": "code",
      "execution_count": 17,
      "metadata": {
        "id": "wFMyghAaFjpO"
      },
      "outputs": [],
      "source": [
        "DEFAULT_ENCODINGS_PATH = Path('output/encodings.pkl')\n",
        "BOUNDING_BOX_COLOR = 'blue'\n",
        "TEXT_COLOT = 'white'"
      ]
    },
    {
      "cell_type": "code",
      "execution_count": 18,
      "metadata": {
        "id": "0sQiv-TMFjpP"
      },
      "outputs": [],
      "source": [
        "parser = argparse.ArgumentParser(description = 'Recognize faces in an image')\n",
        "parser.add_argument('--train', action='store_true', help='train on input data')\n",
        "parser.add_argument('--validate', action='store_true', help='validate trained model')\n",
        "parser.add_argument('--test', action='store_true', help='test the model with an unknown image')\n",
        "parser.add_argument(\n",
        "    '-m',\n",
        "    action='store',\n",
        "    default='hog',\n",
        "    choices=['hog', 'cnn'],\n",
        "    help='Which model to use for training: hog (CPU), cnn (GPU)'\n",
        ")\n",
        "parser.add_argument('-f', action='store', help='Path to an image with an unknown face')\n",
        "args = parser.parse_args()"
      ]
    },
    {
      "cell_type": "code",
      "execution_count": 19,
      "metadata": {
        "id": "EGRvffhaFjpP"
      },
      "outputs": [],
      "source": [
        "Path('training').mkdir(exist_ok=True)\n",
        "Path('output').mkdir(exist_ok=True)\n",
        "Path('validation').mkdir(exist_ok=True)"
      ]
    },
    {
      "cell_type": "code",
      "execution_count": 20,
      "metadata": {
        "id": "Vh6sEMdnFjpQ"
      },
      "outputs": [],
      "source": [
        "def encode_known_faces(model: str = 'hog', encodings_location: Path = DEFAULT_ENCODINGS_PATH) -> None:\n",
        "    names = []\n",
        "    encodings = []\n",
        "\n",
        "    for filepath in Path('training').glob('*/*'):\n",
        "        name  = filepath.parent.name\n",
        "        image = face_recognition.load_image_file(filepath)\n",
        "\n",
        "        # bounding box\n",
        "        face_locations = face_recognition.face_locations(image, model = model)\n",
        "        face_encodings = face_recognition.face_encodings(image, face_locations)\n",
        "\n",
        "        for encoding in face_encodings:\n",
        "            names.append(name)\n",
        "            encodings.append(encoding)\n",
        "\n",
        "    name_encodings = {'names': names, 'encodings': encodings}\n",
        "    with encodings_location.open(mode='wb') as f:\n",
        "        pickle.dump(name_encodings, f)"
      ]
    },
    {
      "cell_type": "code",
      "source": [
        "# encode_known_faces(model='cnn')"
      ],
      "metadata": {
        "id": "t94AwkgZT-bR"
      },
      "execution_count": 27,
      "outputs": []
    },
    {
      "cell_type": "code",
      "execution_count": 28,
      "metadata": {
        "colab": {
          "base_uri": "https://localhost:8080/"
        },
        "id": "G4vYoMm4FjpR",
        "outputId": "8facf363-e9d1-408e-e8cb-fca06cf67252"
      },
      "outputs": [
        {
          "output_type": "stream",
          "name": "stdout",
          "text": [
            "['madonna', 'madonna', 'madonna', 'madonna', 'madonna', 'madonna', 'madonna', 'madonna', 'madonna', 'madonna', 'madonna', 'madonna', 'madonna', 'madonna', 'madonna', 'jerry_seinfeld', 'jerry_seinfeld', 'jerry_seinfeld', 'jerry_seinfeld', 'jerry_seinfeld', 'jerry_seinfeld', 'jerry_seinfeld', 'jerry_seinfeld', 'jerry_seinfeld', 'jerry_seinfeld', 'jerry_seinfeld', 'jerry_seinfeld', 'jerry_seinfeld', 'jerry_seinfeld', 'jerry_seinfeld', 'jobiden', 'jobiden', 'jobiden', 'jobiden', 'jobiden', 'jobiden', 'jobiden', 'jobiden', 'jobiden', 'jobiden', 'jobiden', 'jobiden', 'jobiden', 'jobiden', 'jobiden', 'ben_afflek', 'ben_afflek', 'ben_afflek', 'ben_afflek', 'ben_afflek', 'ben_afflek', 'ben_afflek', 'ben_afflek', 'ben_afflek', 'ben_afflek', 'ben_afflek', 'ben_afflek', 'ben_afflek', 'elon_musk', 'elon_musk', 'elon_musk', 'elon_musk', 'elon_musk', 'elon_musk', 'elon_musk', 'elon_musk', 'elon_musk', 'elon_musk', 'elon_musk', 'elon_musk', 'elon_musk', 'elon_musk', 'elon_musk', 'elon_musk', 'elton_john', 'elton_john', 'elton_john', 'elton_john', 'elton_john', 'elton_john', 'elton_john', 'elton_john', 'elton_john', 'elton_john', 'elton_john', 'elton_john', 'elton_john', 'elton_john', 'elton_john', 'elton_john', 'mindy_kaling', 'mindy_kaling', 'mindy_kaling', 'mindy_kaling', 'mindy_kaling', 'mindy_kaling', 'mindy_kaling', 'mindy_kaling', 'mindy_kaling', 'mindy_kaling', 'mindy_kaling', 'mindy_kaling', 'mindy_kaling', 'mindy_kaling']\n"
          ]
        }
      ],
      "source": [
        "# with open('output/encodings.pkl', mode='rb') as f:\n",
        "#     loaded_encodings = pickle.load(f)\n",
        "# print(loaded_encodings['names'])"
      ]
    },
    {
      "cell_type": "markdown",
      "metadata": {
        "id": "ITeu-pNLFjpR"
      },
      "source": [
        "## Step 3: Recognize Unlabeled Faces"
      ]
    },
    {
      "cell_type": "code",
      "execution_count": 23,
      "metadata": {
        "id": "66Gzwxm4FjpR"
      },
      "outputs": [],
      "source": [
        "def recognize_faces(\n",
        "    image_location: str,\n",
        "    model: str = 'hog',\n",
        "    encodings_location: Path = DEFAULT_ENCODINGS_PATH\n",
        ") -> None:\n",
        "    with encodings_location.open(mode = 'rb') as f:\n",
        "        loaded_encodings = pickle.load(f)\n",
        "\n",
        "    input_image = face_recognition.load_image_file(image_location)\n",
        "\n",
        "    input_face_locations = face_recognition.face_locations(input_image, model=model)\n",
        "    input_face_encodings = face_recognition.face_encodings(input_image, input_face_locations)\n",
        "\n",
        "    pillow_image = Image.fromarray(input_image)\n",
        "    draw = ImageDraw.Draw(pillow_image)\n",
        "\n",
        "    for bounding_box, unknown_encoding in zip(\n",
        "        input_face_locations, input_face_encodings\n",
        "    ):\n",
        "        name = _recognize_face(unknown_encoding, loaded_encodings)\n",
        "        if not name:\n",
        "            name = 'Unknown'\n",
        "        print(name, bounding_box)\n",
        "        _display_face(draw, bounding_box, name)\n",
        "\n",
        "    del draw\n",
        "    pillow_image.show()"
      ]
    },
    {
      "cell_type": "code",
      "execution_count": 24,
      "metadata": {
        "id": "-y_2bHEtFjpS"
      },
      "outputs": [],
      "source": [
        "def _recognize_face(unknown_encoding, loaded_encodings):\n",
        "    boolean_matches = face_recognition.compare_faces(\n",
        "        loaded_encodings['encodings'], unknown_encoding\n",
        "    )\n",
        "    votes = Counter(\n",
        "        name\n",
        "        for match, name in zip(boolean_matches, loaded_encodings['names'])\n",
        "    )\n",
        "    if votes:\n",
        "        return votes.most_common(1)[0][0]"
      ]
    },
    {
      "cell_type": "markdown",
      "metadata": {
        "id": "r5ZTIJZvFjpS"
      },
      "source": [
        "## Step 4: Display Results"
      ]
    },
    {
      "cell_type": "code",
      "execution_count": 25,
      "metadata": {
        "id": "enqtGCT8FjpS"
      },
      "outputs": [],
      "source": [
        "def _display_face(draw, bounding_box, name):\n",
        "    top, right, bottom, left = bounding_box\n",
        "    draw.rectangle(((left, top), (right, bottom)), outline = BOUNDING_BOX_COLOR)\n",
        "    text_left, text_top, text_right, text_bottom = draw.textbbox(\n",
        "        (left, bottom), name\n",
        "    )\n",
        "    draw.rectangle(\n",
        "        ((text_left, text_top), (text_right, text_bottom)),\n",
        "        fill='blue',\n",
        "        outline='blue'\n",
        "    )\n",
        "    draw.text((text_left, text_top), name, fill='white')"
      ]
    },
    {
      "cell_type": "code",
      "execution_count": 34,
      "metadata": {
        "id": "gD8ltt2VFjpT",
        "colab": {
          "base_uri": "https://localhost:8080/"
        },
        "outputId": "0a0b98f3-8805-4759-817e-d49374dd0387"
      },
      "outputs": [
        {
          "output_type": "stream",
          "name": "stdout",
          "text": [
            "elon_musk (1347, 1680, 1854, 1173)\n"
          ]
        }
      ],
      "source": [
        "# test_images\n",
        "recognize_faces('/content/unknown/anand.jpg', model='cnn')"
      ]
    },
    {
      "cell_type": "code",
      "execution_count": 35,
      "metadata": {
        "id": "wVvmS509FjpT",
        "colab": {
          "base_uri": "https://localhost:8080/"
        },
        "outputId": "b8abe3f4-87e8-495f-8ea9-b2e4f5d3eef6"
      },
      "outputs": [
        {
          "output_type": "stream",
          "name": "stdout",
          "text": [
            "elon_musk (177, 422, 470, 128)\n"
          ]
        }
      ],
      "source": [
        "recognize_faces('/content/unknown/hillary-clinton-9251306-2-402.jpg', model='cnn')"
      ]
    },
    {
      "cell_type": "markdown",
      "metadata": {
        "id": "y4sY4Ek9FjpT"
      },
      "source": [
        "## Step 5: Validate Your Model"
      ]
    },
    {
      "cell_type": "code",
      "execution_count": 29,
      "metadata": {
        "id": "V0poF7JkFjpT"
      },
      "outputs": [],
      "source": [
        "def validate(model: str = 'hog'):\n",
        "    for filepath in Path('validation').rglob('*'):\n",
        "        if filepath.is_file():\n",
        "            recognize_faces(image_location = str(filepath.absolute()), model = model)"
      ]
    },
    {
      "cell_type": "code",
      "execution_count": 30,
      "metadata": {
        "id": "gwR9q4dxFjpT"
      },
      "outputs": [],
      "source": [
        "# validate(model='cnn)"
      ]
    },
    {
      "cell_type": "markdown",
      "metadata": {
        "id": "iCGJ5yHyFjpT"
      },
      "source": [
        "## Step 6: Add Command-Line Arguments"
      ]
    },
    {
      "cell_type": "code",
      "execution_count": 31,
      "metadata": {
        "id": "-ZDl5xm-FjpU"
      },
      "outputs": [],
      "source": [
        "if __name__ == '__main__':\n",
        "    if args.train:\n",
        "        encode_known_faces(args.m)\n",
        "    if args.validate:\n",
        "        validate(args.m)\n",
        "    if args.test:\n",
        "        recognize_faces(image_location=args.f, model=args.m)\n"
      ]
    },
    {
      "cell_type": "markdown",
      "metadata": {
        "id": "3pitMrjJFjpU"
      },
      "source": [
        "## Step 7: Perform Face Recognition With Python"
      ]
    }
  ],
  "metadata": {
    "colab": {
      "provenance": [],
      "gpuType": "T4"
    },
    "kernelspec": {
      "display_name": "Python 3",
      "name": "python3"
    },
    "language_info": {
      "codemirror_mode": {
        "name": "ipython",
        "version": 3
      },
      "file_extension": ".py",
      "mimetype": "text/x-python",
      "name": "python",
      "nbconvert_exporter": "python",
      "pygments_lexer": "ipython3",
      "version": "3.11.5"
    },
    "accelerator": "GPU"
  },
  "nbformat": 4,
  "nbformat_minor": 0
}