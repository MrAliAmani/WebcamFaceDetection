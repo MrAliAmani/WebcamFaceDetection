{
 "cells": [
  {
   "cell_type": "markdown",
   "metadata": {
    "id": "RkPaQXTokZOK"
   },
   "source": [
    "# Rastava logo"
   ]
  },
  {
   "cell_type": "code",
   "execution_count": 25,
   "metadata": {
    "colab": {
     "base_uri": "https://localhost:8080/",
     "height": 211
    },
    "id": "_5kIHh5FWXwm",
    "outputId": "2ccb91e0-2bf7-4153-f7fa-69ec557e97bd"
   },
   "outputs": [
    {
     "name": "stderr",
     "output_type": "stream",
     "text": [
      "D:\\anaconda3\\Lib\\site-packages\\paramiko\\transport.py:219: CryptographyDeprecationWarning: Blowfish has been deprecated\n",
      "  \"class\": algorithms.Blowfish,\n"
     ]
    }
   ],
   "source": [
    "import cv2\n",
    "\n",
    "# for running on colab\n",
    "# from google.colab.patches import cv2_imshow\n",
    "\n",
    "from matplotlib import pyplot as plt\n",
    "import seaborn_image as isns\n",
    "\n",
    "import time"
   ]
  },
  {
   "cell_type": "code",
   "execution_count": 2,
   "metadata": {
    "id": "e6H8jH590lXb"
   },
   "outputs": [],
   "source": [
    "LOGO_PATH = 'rastava_logo.png'"
   ]
  },
  {
   "cell_type": "code",
   "execution_count": 3,
   "metadata": {
    "id": "1yfOdkGPj8m7"
   },
   "outputs": [],
   "source": [
    "logo = cv2.imread(LOGO_PATH, cv2.IMREAD_COLOR)"
   ]
  },
  {
   "cell_type": "code",
   "execution_count": 4,
   "metadata": {
    "id": "gHSkC2fGkgvI"
   },
   "outputs": [
    {
     "name": "stdout",
     "output_type": "stream",
     "text": [
      "<class 'numpy.ndarray'> (224, 225, 3)\n",
      "[[[255 255 255]\n",
      "  [255 255 255]\n",
      "  [255 255 255]\n",
      "  ...\n",
      "  [255 255 255]\n",
      "  [255 255 255]\n",
      "  [255 255 255]]\n",
      "\n",
      " [[255 255 255]\n",
      "  [255 255 255]\n",
      "  [255 255 255]\n",
      "  ...\n",
      "  [255 255 255]\n",
      "  [255 255 255]\n",
      "  [255 255 255]]]\n"
     ]
    }
   ],
   "source": [
    "print(type(logo), logo.shape)\n",
    "print(logo[:2])"
   ]
  },
  {
   "cell_type": "markdown",
   "metadata": {
    "id": "uVd1Z9tfl38O"
   },
   "source": [
    "DisabledFunctionError: cv2.imshow() is disabled in Colab, because it causes Jupyter sessions\n",
    "to crash; see https://github.com/jupyter/notebook/issues/3935."
   ]
  },
  {
   "cell_type": "code",
   "execution_count": 5,
   "metadata": {
    "id": "Lfrl3i5Mkpnb"
   },
   "outputs": [],
   "source": [
    "# cv2_imshow(logo)\n",
    "cv2.imshow('Rastava Logo', logo)\n",
    "cv2.waitKey(0)\n",
    "cv2.destroyAllWindows()"
   ]
  },
  {
   "cell_type": "code",
   "execution_count": 6,
   "metadata": {},
   "outputs": [],
   "source": [
    "def show_image(title, img):\n",
    "    # using cv2_imshow(img) on google colab   \n",
    "    # cv2_imshow(logo)\n",
    "    cv2.imshow(title, img)\n",
    "    cv2.waitKey(0)\n",
    "    cv2.destroyAllWindows()"
   ]
  },
  {
   "cell_type": "code",
   "execution_count": 7,
   "metadata": {},
   "outputs": [],
   "source": [
    "show_image('Rastava Logo', logo)"
   ]
  },
  {
   "cell_type": "markdown",
   "metadata": {
    "id": "bXO6-Humn-l2"
   },
   "source": [
    "## gray scale"
   ]
  },
  {
   "cell_type": "code",
   "execution_count": 8,
   "metadata": {
    "id": "ZCXBQPLWnhXt"
   },
   "outputs": [],
   "source": [
    "grey_logo = cv2.imread(LOGO_PATH, cv2.IMREAD_GRAYSCALE)\n",
    "# cv2_imshow(logo)\n",
    "show_image('Rastava Grey Logo', grey_logo)"
   ]
  },
  {
   "cell_type": "code",
   "execution_count": 9,
   "metadata": {
    "id": "Mvc6aWpNnu1C"
   },
   "outputs": [],
   "source": [
    "grey_logo[20:100][60:1500] = 0\n",
    "show_image('Rastava Grey Logo', grey_logo)"
   ]
  },
  {
   "cell_type": "code",
   "execution_count": 10,
   "metadata": {
    "id": "jVHS-7I6n3ay"
   },
   "outputs": [],
   "source": [
    "for i in range(0, grey_logo.shape[0]):\n",
    "    for j in range(0, logo.shape[1]):\n",
    "        grey_logo[i, j] = 0 if grey_logo[i, j] == 255 else grey_logo[i, j]\n",
    "\n",
    "show_image('Rastava Grey Logo', grey_logo)"
   ]
  },
  {
   "cell_type": "markdown",
   "metadata": {
    "id": "9y7w5DSWoee1"
   },
   "source": [
    "## white and black\n",
    "convert greyscale image to black and white binary image using a threshold"
   ]
  },
  {
   "cell_type": "code",
   "execution_count": 11,
   "metadata": {
    "id": "gvvI-drtpFxm"
   },
   "outputs": [],
   "source": [
    "# Convert grayscale image to binary\n",
    "BW_THRESHOLD = 128\n",
    "MAXVAL = 255\n",
    "\n",
    "def convert_grey_to_bw_img(logo):\n",
    "  (thresh, im_bw) = cv2.threshold(logo, BW_THRESHOLD, MAXVAL, cv2.THRESH_BINARY | cv2.THRESH_OTSU)\n",
    "  cv2.imwrite('bw_logo.png', im_bw)\n",
    "  return im_bw"
   ]
  },
  {
   "cell_type": "code",
   "execution_count": 12,
   "metadata": {
    "id": "RuXkBAdN1UU2"
   },
   "outputs": [],
   "source": [
    "logo = cv2.imread(LOGO_PATH, cv2.IMREAD_GRAYSCALE)\n",
    "im_bw = convert_grey_to_bw_img(logo)\n",
    "show_image('Rastava Black and White Image', im_bw)"
   ]
  },
  {
   "cell_type": "markdown",
   "metadata": {
    "id": "V-0wqc2wpdSc"
   },
   "source": [
    "## Convert colored logo to greyscale logo"
   ]
  },
  {
   "cell_type": "code",
   "execution_count": 13,
   "metadata": {
    "id": "hJNJ2ZXErgjS"
   },
   "outputs": [],
   "source": [
    "def convert_color_to_greyscale_img(logo):\n",
    "  grey_logo = cv2.cvtColor(logo, cv2.COLOR_BGR2GRAY)\n",
    "  return grey_logo"
   ]
  },
  {
   "cell_type": "code",
   "execution_count": 14,
   "metadata": {
    "id": "IcbIMX8VryJ8"
   },
   "outputs": [],
   "source": [
    "logo = cv2.imread(LOGO_PATH, cv2.IMREAD_COLOR)\n",
    "grey_logo = convert_color_to_greyscale_img(logo)\n",
    "show_image('Rastava Grey Logo', grey_logo)"
   ]
  },
  {
   "cell_type": "markdown",
   "metadata": {
    "id": "DFqnKRSHtKLU"
   },
   "source": [
    "## Convert colored logo to black and white logo"
   ]
  },
  {
   "cell_type": "code",
   "execution_count": 15,
   "metadata": {
    "id": "B0Y2FmDZtNwB"
   },
   "outputs": [],
   "source": [
    "def convert_color_to_bw_img(logo):\n",
    "  grey_img = convert_color_to_greyscale_img(logo)\n",
    "  bw_logo = convert_grey_to_bw_img(grey_img)\n",
    "  return bw_logo"
   ]
  },
  {
   "cell_type": "code",
   "execution_count": 16,
   "metadata": {
    "id": "41HhAKCUtN1e"
   },
   "outputs": [],
   "source": [
    "logo = cv2.imread(LOGO_PATH, cv2.IMREAD_COLOR)\n",
    "bw_logo = convert_color_to_bw_img(logo)\n",
    "show_image('Rastava Black and White Image', bw_logo)"
   ]
  },
  {
   "cell_type": "markdown",
   "metadata": {
    "id": "QcZemPa39fmq"
   },
   "source": [
    "## using THRESHOLD"
   ]
  },
  {
   "cell_type": "code",
   "execution_count": 17,
   "metadata": {
    "id": "kzz1jTtA19MQ"
   },
   "outputs": [],
   "source": [
    "grey_logo = cv2.imread(LOGO_PATH, cv2.IMREAD_GRAYSCALE)\n",
    "\n",
    "THRESHOLD = .8 * MAXVAL\n",
    "manipulated_logo = []\n",
    "for i in range(0, grey_logo.shape[0]):\n",
    "  for j in range(0, grey_logo.shape[1]):\n",
    "    grey_logo[i][j] = 0 if grey_logo[i][j] <= THRESHOLD else 255\n",
    "\n",
    "show_image('Rastava Grey Logo', grey_logo)"
   ]
  },
  {
   "cell_type": "markdown",
   "metadata": {
    "id": "A-SCR4-g4Q2_"
   },
   "source": [
    "# Read Video"
   ]
  },
  {
   "cell_type": "code",
   "execution_count": 18,
   "metadata": {
    "id": "AFv5jYK55RB7"
   },
   "outputs": [],
   "source": [
    "def show_video(VIDEO_PATH):\n",
    "    cap = cv2.VideoCapture(VIDEO_PATH)\n",
    "\n",
    "    if cap.isOpened() == False:\n",
    "      print('Cannot open the video!')\n",
    "\n",
    "    while cap.isOpened():\n",
    "      ret, frame = cap.read()\n",
    "      if ret:\n",
    "        cv2.imshow('frame', frame)\n",
    "\n",
    "        # Press Q on keyboard to  exit\n",
    "        if cv2.waitKey(25) & 0xFF == ord('q'):\n",
    "          break\n",
    "\n",
    "      else:\n",
    "        break\n",
    "\n",
    "    cap.release()\n",
    "\n",
    "    cv2.destroyAllWindows()"
   ]
  },
  {
   "cell_type": "code",
   "execution_count": 19,
   "metadata": {
    "id": "9rEO3nDM8lY2"
   },
   "outputs": [],
   "source": [
    "VIDEO_PATH = 'The-Horse-in-Motion-anim.gif'\n",
    "show_video(VIDEO_PATH)"
   ]
  },
  {
   "cell_type": "markdown",
   "metadata": {},
   "source": [
    "# Face Detection using https://towardsdatascience.com/face-detection-in-2-minutes-using-opencv-python-90f89d7c0f81"
   ]
  },
  {
   "cell_type": "markdown",
   "metadata": {},
   "source": [
    "download the raw xml file [https://raw.githubusercontent.com/opencv/opencv/master/data/haarcascades/haarcascade_frontalface_default.xml]"
   ]
  },
  {
   "cell_type": "code",
   "execution_count": 32,
   "metadata": {},
   "outputs": [],
   "source": [
    "def detect_faces_haar_cascade(xml_path, img):\n",
    "    face_cascade = cv2.CascadeClassifier(xml_path)\n",
    "\n",
    "    grey_img = convert_color_to_greyscale_img(img)\n",
    "\n",
    "    faces = face_cascade.detectMultiScale(grey_img, scaleFactor=1.1, minNeighbors=4)\n",
    "    for (x, y, w, h) in faces:\n",
    "        cv2.rectangle(img, (x, y), (x+w, y+h), color=(255, 0, 0), thickness=2)\n",
    "        \n",
    "    return len(faces), img"
   ]
  },
  {
   "cell_type": "code",
   "execution_count": 33,
   "metadata": {},
   "outputs": [
    {
     "name": "stdout",
     "output_type": "stream",
     "text": [
      "Number of faces detected: 5\n"
     ]
    }
   ],
   "source": [
    "XML_PATH = 'haarcascade_frontalface_default.xml'\n",
    "IMG_PATH = 'faces.JPEG'\n",
    "\n",
    "img = cv2.imread(IMG_PATH)\n",
    "face_count, img = detect_faces_haar_cascade(XML_PATH, img)\n",
    "print(\"Number of faces detected:\", face_count)\n",
    "show_image('img', img)"
   ]
  },
  {
   "cell_type": "markdown",
   "metadata": {},
   "source": [
    "The code may not detect all of the faces in a picture full of people"
   ]
  },
  {
   "cell_type": "markdown",
   "metadata": {},
   "source": [
    "# video Face detection from webcam"
   ]
  },
  {
   "cell_type": "code",
   "execution_count": 34,
   "metadata": {},
   "outputs": [],
   "source": [
    "# Capture a video from webcam\n",
    "cap = cv2.VideoCapture(0)\n",
    "while True:\n",
    "    _, img = cap.read()\n",
    "    _, img = detect_faces_haar_cascade(XML_PATH, img)\n",
    "    cv2.imshow('img', img)\n",
    "    \n",
    "    # Stop if escape key is pressed\n",
    "    key = cv2.waitKey(30) & 0xff\n",
    "    if key==27:\n",
    "        break\n",
    "        \n",
    "cap.release()\n",
    "\n",
    "# sleep for 3 seconds\n",
    "time.sleep(3)\n",
    "cv2.destroyAllWindows()"
   ]
  },
  {
   "cell_type": "markdown",
   "metadata": {},
   "source": [
    "# Show an image with seaborn"
   ]
  },
  {
   "cell_type": "code",
   "execution_count": 30,
   "metadata": {},
   "outputs": [
    {
     "data": {
      "image/png": "[encoded data removed]",
      "text/plain": [
       "<Figure size 640x480 with 1 Axes>"
      ]
     },
     "metadata": {},
     "output_type": "display_data"
    }
   ],
   "source": [
    "logo = plt.imread(LOGO_PATH)\n",
    "ax = isns.imgplot(logo)\n",
    "isns.set_scalebar(color='blue', scale_loc='bottom')"
   ]
  },
  {
   "cell_type": "markdown",
   "metadata": {},
   "source": [
    "# waitKey() and destroyAll()\n",
    "The waitKey function pauses the execution of the code until a key is pressed. This allows the user to view the image displayed by the cv2.imshow() function. The destroyAllWindows function closes all of the windows that were opened by OpenCV."
   ]
  }
 ],
 "metadata": {
  "colab": {
   "provenance": []
  },
  "kernelspec": {
   "display_name": "Python 3 (ipykernel)",
   "language": "python",
   "name": "python3"
  },
  "language_info": {
   "codemirror_mode": {
    "name": "ipython",
    "version": 3
   },
   "file_extension": ".py",
   "mimetype": "text/x-python",
   "name": "python",
   "nbconvert_exporter": "python",
   "pygments_lexer": "ipython3",
   "version": "3.11.5"
  }
 },
 "nbformat": 4,
 "nbformat_minor": 1
}
